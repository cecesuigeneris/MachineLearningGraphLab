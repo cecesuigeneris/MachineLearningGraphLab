{
 "cells": [
  {
   "cell_type": "code",
   "execution_count": 1,
   "metadata": {
    "collapsed": false
   },
   "outputs": [
    {
     "name": "stdout",
     "output_type": "stream",
     "text": [
      "Enter file name: sample.txt\n",
      "Average spam confidence: 0.750718518519\n"
     ]
    }
   ],
   "source": [
    "# Use the file name mbox-short.txt as the file name\n",
    "fname = raw_input(\"Enter file name: \")\n",
    "fh = open(fname)\n",
    "numbers = []\n",
    "for line in fh:\n",
    "    if not line.startswith(\"X-DSPAM-Confidence:\"):\n",
    "        continue\n",
    "    else:\n",
    "        num = float(line.split(':')[1].strip())\n",
    "        numbers.append(num)\n",
    "print \"Average spam confidence: \" + str(sum(numbers)/len(numbers))"
   ]
  },
  {
   "cell_type": "code",
   "execution_count": 10,
   "metadata": {
    "collapsed": false
   },
   "outputs": [
    {
     "name": "stdout",
     "output_type": "stream",
     "text": [
      "Enter file name: sample.txt\n",
      "X-DSPAM-Confidence: 0.8475\n",
      "\n",
      "['X-DSPAM-Confidence', ' 0.8475\\n']\n",
      "X-DSPAM-Confidence: 0.6178\n",
      "\n",
      "['X-DSPAM-Confidence', ' 0.6178\\n']\n",
      "X-DSPAM-Confidence: 0.6961\n",
      "\n",
      "['X-DSPAM-Confidence', ' 0.6961\\n']\n",
      "X-DSPAM-Confidence: 0.7565\n",
      "\n",
      "['X-DSPAM-Confidence', ' 0.7565\\n']\n",
      "X-DSPAM-Confidence: 0.7626\n",
      "\n",
      "['X-DSPAM-Confidence', ' 0.7626\\n']\n",
      "X-DSPAM-Confidence: 0.7556\n",
      "\n",
      "['X-DSPAM-Confidence', ' 0.7556\\n']\n",
      "X-DSPAM-Confidence: 0.7002\n",
      "\n",
      "['X-DSPAM-Confidence', ' 0.7002\\n']\n",
      "X-DSPAM-Confidence: 0.7615\n",
      "\n",
      "['X-DSPAM-Confidence', ' 0.7615\\n']\n",
      "X-DSPAM-Confidence: 0.7601\n",
      "\n",
      "['X-DSPAM-Confidence', ' 0.7601\\n']\n",
      "X-DSPAM-Confidence: 0.7605\n",
      "\n",
      "['X-DSPAM-Confidence', ' 0.7605\\n']\n",
      "X-DSPAM-Confidence: 0.6959\n",
      "\n",
      "['X-DSPAM-Confidence', ' 0.6959\\n']\n",
      "X-DSPAM-Confidence: 0.7606\n",
      "\n",
      "['X-DSPAM-Confidence', ' 0.7606\\n']\n",
      "X-DSPAM-Confidence: 0.7559\n",
      "\n",
      "['X-DSPAM-Confidence', ' 0.7559\\n']\n",
      "X-DSPAM-Confidence: 0.7605\n",
      "\n",
      "['X-DSPAM-Confidence', ' 0.7605\\n']\n",
      "X-DSPAM-Confidence: 0.6932\n",
      "\n",
      "['X-DSPAM-Confidence', ' 0.6932\\n']\n",
      "X-DSPAM-Confidence: 0.7558\n",
      "\n",
      "['X-DSPAM-Confidence', ' 0.7558\\n']\n",
      "X-DSPAM-Confidence: 0.6526\n",
      "\n",
      "['X-DSPAM-Confidence', ' 0.6526\\n']\n",
      "X-DSPAM-Confidence: 0.6948\n",
      "\n",
      "['X-DSPAM-Confidence', ' 0.6948\\n']\n",
      "X-DSPAM-Confidence: 0.6528\n",
      "\n",
      "['X-DSPAM-Confidence', ' 0.6528\\n']\n",
      "X-DSPAM-Confidence: 0.7002\n",
      "\n",
      "['X-DSPAM-Confidence', ' 0.7002\\n']\n",
      "X-DSPAM-Confidence: 0.7554\n",
      "\n",
      "['X-DSPAM-Confidence', ' 0.7554\\n']\n",
      "X-DSPAM-Confidence: 0.6956\n",
      "\n",
      "['X-DSPAM-Confidence', ' 0.6956\\n']\n",
      "X-DSPAM-Confidence: 0.6959\n",
      "\n",
      "['X-DSPAM-Confidence', ' 0.6959\\n']\n",
      "X-DSPAM-Confidence: 0.7556\n",
      "\n",
      "['X-DSPAM-Confidence', ' 0.7556\\n']\n",
      "X-DSPAM-Confidence: 0.9846\n",
      "\n",
      "['X-DSPAM-Confidence', ' 0.9846\\n']\n",
      "X-DSPAM-Confidence: 0.8509\n",
      "\n",
      "['X-DSPAM-Confidence', ' 0.8509\\n']\n",
      "X-DSPAM-Confidence: 0.9907\n",
      "\n",
      "['X-DSPAM-Confidence', ' 0.9907\\n']\n"
     ]
    }
   ],
   "source": [
    "# Use the file name mbox-short.txt as the file name\n",
    "fname = raw_input(\"Enter file name: \")\n",
    "fh = open(fname)\n",
    "for line in fh:\n",
    "    if not line.startswith(\"X-DSPAM-Confidence:\"):\n",
    "        continue\n",
    "    print line\n",
    "    line_s = line.split(':')\n",
    "    print line_s"
   ]
  },
  {
   "cell_type": "code",
   "execution_count": 15,
   "metadata": {
    "collapsed": false
   },
   "outputs": [
    {
     "name": "stdout",
     "output_type": "stream",
     "text": [
      "Enter file name: sample.txt\n",
      "X-DSPAM-Confidence: 0.8475\n",
      "\n",
      "None\n",
      "X-DSPAM-Confidence: 0.6178\n",
      "\n",
      "None\n",
      "X-DSPAM-Confidence: 0.6961\n",
      "\n",
      "None\n",
      "X-DSPAM-Confidence: 0.7565\n",
      "\n",
      "None\n",
      "X-DSPAM-Confidence: 0.7626\n",
      "\n",
      "None\n",
      "X-DSPAM-Confidence: 0.7556\n",
      "\n",
      "None\n",
      "X-DSPAM-Confidence: 0.7002\n",
      "\n",
      "None\n",
      "X-DSPAM-Confidence: 0.7615\n",
      "\n",
      "None\n",
      "X-DSPAM-Confidence: 0.7601\n",
      "\n",
      "None\n",
      "X-DSPAM-Confidence: 0.7605\n",
      "\n",
      "None\n",
      "X-DSPAM-Confidence: 0.6959\n",
      "\n",
      "None\n",
      "X-DSPAM-Confidence: 0.7606\n",
      "\n",
      "None\n",
      "X-DSPAM-Confidence: 0.7559\n",
      "\n",
      "None\n",
      "X-DSPAM-Confidence: 0.7605\n",
      "\n",
      "None\n",
      "X-DSPAM-Confidence: 0.6932\n",
      "\n",
      "None\n",
      "X-DSPAM-Confidence: 0.7558\n",
      "\n",
      "None\n",
      "X-DSPAM-Confidence: 0.6526\n",
      "\n",
      "None\n",
      "X-DSPAM-Confidence: 0.6948\n",
      "\n",
      "None\n",
      "X-DSPAM-Confidence: 0.6528\n",
      "\n",
      "None\n",
      "X-DSPAM-Confidence: 0.7002\n",
      "\n",
      "None\n",
      "X-DSPAM-Confidence: 0.7554\n",
      "\n",
      "None\n",
      "X-DSPAM-Confidence: 0.6956\n",
      "\n",
      "None\n",
      "X-DSPAM-Confidence: 0.6959\n",
      "\n",
      "None\n",
      "X-DSPAM-Confidence: 0.7556\n",
      "\n",
      "None\n",
      "X-DSPAM-Confidence: 0.9846\n",
      "\n",
      "None\n",
      "X-DSPAM-Confidence: 0.8509\n",
      "\n",
      "None\n",
      "X-DSPAM-Confidence: 0.9907\n",
      "\n",
      "None\n"
     ]
    }
   ],
   "source": [
    "# Use the file name mbox-short.txt as the file name\n",
    "fname = raw_input(\"Enter file name: \")\n",
    "fh = open(fname)\n",
    "numbers = []\n",
    "for line in fh:\n",
    "    if not line.startswith(\"X-DSPAM-Confidence:\"):\n",
    "        continue\n",
    "    print line\n",
    "    line_s = float(line.split(':')[1].strip())\n",
    "    print numbers.append(line_s)"
   ]
  },
  {
   "cell_type": "code",
   "execution_count": 19,
   "metadata": {
    "collapsed": false
   },
   "outputs": [
    {
     "name": "stdout",
     "output_type": "stream",
     "text": [
      "Enter file name: sample.txt\n",
      "[0.8475, 0.6178, 0.6961, 0.7565, 0.7626, 0.7556, 0.7002, 0.7615, 0.7601, 0.7605, 0.6959, 0.7606, 0.7559, 0.7605, 0.6932, 0.7558, 0.6526, 0.6948, 0.6528, 0.7002, 0.7554, 0.6956, 0.6959, 0.7556, 0.9846, 0.8509, 0.9907]\n"
     ]
    }
   ],
   "source": [
    "# Use the file name mbox-short.txt as the file name\n",
    "fname = raw_input(\"Enter file name: \")\n",
    "fh = open(fname)\n",
    "numbers = []\n",
    "for line in fh:\n",
    "    if not line.startswith(\"X-DSPAM-Confidence:\"):\n",
    "        continue\n",
    "    else:\n",
    "        line_s = float(line.split(':')[1].strip())\n",
    "        numbers.append(line_s)\n",
    "print numbers"
   ]
  },
  {
   "cell_type": "code",
   "execution_count": 21,
   "metadata": {
    "collapsed": false
   },
   "outputs": [
    {
     "name": "stdout",
     "output_type": "stream",
     "text": [
      "Enter file name: sample.txt\n",
      "0.750718518519\n"
     ]
    }
   ],
   "source": [
    "# Use the file name mbox-short.txt as the file name\n",
    "fname = raw_input(\"Enter file name: \")\n",
    "fh = open(fname)\n",
    "numbers = []\n",
    "for line in fh:\n",
    "    if not line.startswith(\"X-DSPAM-Confidence:\"):\n",
    "        continue\n",
    "    else:\n",
    "        line_s = float(line.split(':')[1].strip())\n",
    "        numbers.append(line_s)\n",
    "print sum(numbers)/len(numbers)"
   ]
  },
  {
   "cell_type": "code",
   "execution_count": null,
   "metadata": {
    "collapsed": true
   },
   "outputs": [],
   "source": []
  }
 ],
 "metadata": {
  "kernelspec": {
   "display_name": "Python 2",
   "language": "python",
   "name": "python2"
  },
  "language_info": {
   "codemirror_mode": {
    "name": "ipython",
    "version": 2
   },
   "file_extension": ".py",
   "mimetype": "text/x-python",
   "name": "python",
   "nbconvert_exporter": "python",
   "pygments_lexer": "ipython2",
   "version": "2.7.10"
  }
 },
 "nbformat": 4,
 "nbformat_minor": 0
}
